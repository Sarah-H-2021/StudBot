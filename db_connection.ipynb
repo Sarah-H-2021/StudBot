{
 "cells": [
  {
   "cell_type": "code",
   "execution_count": 116,
   "id": "d7f8007d",
   "metadata": {
    "scrolled": false
   },
   "outputs": [],
   "source": [
    "import pymysql\n",
    "# from sshtunnel import SSHTunnelForwarder\n",
    "import mysql.connector\n",
    "import pandas as pd\n",
    "from tqdm import tqdm"
   ]
  },
  {
   "cell_type": "markdown",
   "id": "6a8b205e",
   "metadata": {},
   "source": [
    "## Connecting to the DB instance"
   ]
  },
  {
   "cell_type": "code",
   "execution_count": 25,
   "id": "bde336ce",
   "metadata": {},
   "outputs": [],
   "source": [
    "host = 'database.c5qerzx5gva8.us-east-2.rds.amazonaws.com'\n",
    "user = 'admin'\n",
    "password = 'Admin123!'\n",
    "database = 'sys'\n",
    "port = 3306"
   ]
  },
  {
   "cell_type": "code",
   "execution_count": 92,
   "id": "66e4485a",
   "metadata": {},
   "outputs": [],
   "source": [
    "db = pymysql.connect(host=host, user=user, password=password)"
   ]
  },
  {
   "cell_type": "code",
   "execution_count": 93,
   "id": "579ebf00",
   "metadata": {},
   "outputs": [],
   "source": [
    "cursor = db.cursor()"
   ]
  },
  {
   "cell_type": "markdown",
   "id": "3a8a8f58",
   "metadata": {},
   "source": [
    "## Creating DB & tables"
   ]
  },
  {
   "cell_type": "code",
   "execution_count": 97,
   "id": "8feda24d",
   "metadata": {},
   "outputs": [
    {
     "data": {
      "text/plain": [
       "1"
      ]
     },
     "execution_count": 97,
     "metadata": {},
     "output_type": "execute_result"
    }
   ],
   "source": [
    "sql = '''create database hse'''\n",
    "cursor.execute(sql)"
   ]
  },
  {
   "cell_type": "code",
   "execution_count": 98,
   "id": "9fe6ccbf",
   "metadata": {},
   "outputs": [],
   "source": [
    "cursor.connection.commit()"
   ]
  },
  {
   "cell_type": "code",
   "execution_count": 99,
   "id": "dcf18246",
   "metadata": {},
   "outputs": [
    {
     "data": {
      "text/plain": [
       "0"
      ]
     },
     "execution_count": 99,
     "metadata": {},
     "output_type": "execute_result"
    }
   ],
   "source": [
    "sql = '''use hse'''\n",
    "cursor.execute(sql)"
   ]
  },
  {
   "cell_type": "code",
   "execution_count": 101,
   "id": "36583eed",
   "metadata": {},
   "outputs": [
    {
     "data": {
      "text/plain": [
       "10"
      ]
     },
     "execution_count": 101,
     "metadata": {},
     "output_type": "execute_result"
    }
   ],
   "source": [
    "len('2021-12-05')"
   ]
  },
  {
   "cell_type": "code",
   "execution_count": 245,
   "id": "f38eac7b",
   "metadata": {},
   "outputs": [
    {
     "data": {
      "text/plain": [
       "0"
      ]
     },
     "execution_count": 245,
     "metadata": {},
     "output_type": "execute_result"
    }
   ],
   "source": [
    "sql = '''drop table rankings'''\n",
    "cursor.execute(sql)"
   ]
  },
  {
   "cell_type": "code",
   "execution_count": 139,
   "id": "10506595",
   "metadata": {},
   "outputs": [
    {
     "data": {
      "text/plain": [
       "0"
      ]
     },
     "execution_count": 139,
     "metadata": {},
     "output_type": "execute_result"
    }
   ],
   "source": [
    "sql = '''\n",
    "create table housing_faq (\n",
    "   event_date CHAR(10),\n",
    "   question VARCHAR(65534),\n",
    "   answer VARCHAR(65534)\n",
    ")\n",
    "'''\n",
    "cursor.execute(sql)"
   ]
  },
  {
   "cell_type": "code",
   "execution_count": 153,
   "id": "c7379777",
   "metadata": {},
   "outputs": [
    {
     "data": {
      "text/plain": [
       "0"
      ]
     },
     "execution_count": 153,
     "metadata": {},
     "output_type": "execute_result"
    }
   ],
   "source": [
    "sql = '''\n",
    "create table costs (\n",
    "   event_date CHAR(10),\n",
    "   which VARCHAR(65534),\n",
    "   programme VARCHAR(65534),\n",
    "   tuition VARCHAR(65534)\n",
    ")\n",
    "'''\n",
    "cursor.execute(sql)"
   ]
  },
  {
   "cell_type": "code",
   "execution_count": 246,
   "id": "f0cd7565",
   "metadata": {},
   "outputs": [
    {
     "data": {
      "text/plain": [
       "0"
      ]
     },
     "execution_count": 246,
     "metadata": {},
     "output_type": "execute_result"
    }
   ],
   "source": [
    "sql = '''\n",
    "create table rankings (\n",
    "   event_date CHAR(10),\n",
    "   ranking VARCHAR(65534),\n",
    "   subject VARCHAR(65534),\n",
    "   place_world VARCHAR(65534),\n",
    "   place_russia VARCHAR(65534)\n",
    ")\n",
    "'''\n",
    "cursor.execute(sql)"
   ]
  },
  {
   "cell_type": "code",
   "execution_count": 240,
   "id": "0369f57c",
   "metadata": {},
   "outputs": [
    {
     "data": {
      "text/plain": [
       "0"
      ]
     },
     "execution_count": 240,
     "metadata": {},
     "output_type": "execute_result"
    }
   ],
   "source": [
    "sql = '''\n",
    "create table programmes (\n",
    "   event_date CHAR(10),\n",
    "   programme VARCHAR(65534),\n",
    "   faculty VARCHAR(65534),\n",
    "   link VARCHAR(65534),\n",
    "   type VARCHAR(65534),\n",
    "   department VARCHAR(65534),\n",
    "   location VARCHAR(65534),\n",
    "   duration VARCHAR(65534),\n",
    "   schedule VARCHAR(65534),\n",
    "   language VARCHAR(65534)\n",
    ")\n",
    "'''\n",
    "cursor.execute(sql)"
   ]
  },
  {
   "cell_type": "code",
   "execution_count": 241,
   "id": "2b985978",
   "metadata": {
    "scrolled": true
   },
   "outputs": [
    {
     "data": {
      "text/plain": [
       "(('costs',), ('housing_faq',), ('programmes',), ('rankings',))"
      ]
     },
     "execution_count": 241,
     "metadata": {},
     "output_type": "execute_result"
    }
   ],
   "source": [
    "sql = '''show tables'''\n",
    "cursor.execute(sql)\n",
    "cursor.fetchall()"
   ]
  },
  {
   "cell_type": "markdown",
   "id": "1317cef1",
   "metadata": {},
   "source": [
    "## Inserting"
   ]
  },
  {
   "cell_type": "code",
   "execution_count": 152,
   "id": "6791810d",
   "metadata": {},
   "outputs": [],
   "source": [
    "from parsing_funcs import *"
   ]
  },
  {
   "cell_type": "code",
   "execution_count": 137,
   "id": "2dfbc789",
   "metadata": {},
   "outputs": [
    {
     "data": {
      "text/html": [
       "<div>\n",
       "<style scoped>\n",
       "    .dataframe tbody tr th:only-of-type {\n",
       "        vertical-align: middle;\n",
       "    }\n",
       "\n",
       "    .dataframe tbody tr th {\n",
       "        vertical-align: top;\n",
       "    }\n",
       "\n",
       "    .dataframe thead th {\n",
       "        text-align: right;\n",
       "    }\n",
       "</style>\n",
       "<table border=\"1\" class=\"dataframe\">\n",
       "  <thead>\n",
       "    <tr style=\"text-align: right;\">\n",
       "      <th></th>\n",
       "      <th>date</th>\n",
       "      <th>question</th>\n",
       "      <th>answer</th>\n",
       "    </tr>\n",
       "  </thead>\n",
       "  <tbody>\n",
       "    <tr>\n",
       "      <th>0</th>\n",
       "      <td>2021-12-05</td>\n",
       "      <td>How can I apply for accommodation?</td>\n",
       "      <td>You will need to fill out a form in your onlin...</td>\n",
       "    </tr>\n",
       "    <tr>\n",
       "      <th>1</th>\n",
       "      <td>2021-12-05</td>\n",
       "      <td>Will I sign a formal rental agreement?</td>\n",
       "      <td>Yes, you will. Each student signs a rental agr...</td>\n",
       "    </tr>\n",
       "    <tr>\n",
       "      <th>2</th>\n",
       "      <td>2021-12-05</td>\n",
       "      <td>Can I contact the Student Housing Office manag...</td>\n",
       "      <td>Yes. If you have any questions about your acco...</td>\n",
       "    </tr>\n",
       "    <tr>\n",
       "      <th>3</th>\n",
       "      <td>2021-12-05</td>\n",
       "      <td>How will I pay for accommodation? Via the univ...</td>\n",
       "      <td>If the contract (rental or accommodation contr...</td>\n",
       "    </tr>\n",
       "    <tr>\n",
       "      <th>4</th>\n",
       "      <td>2021-12-05</td>\n",
       "      <td>Will there be a security deposit?</td>\n",
       "      <td>All accommodation options require a security d...</td>\n",
       "    </tr>\n",
       "  </tbody>\n",
       "</table>\n",
       "</div>"
      ],
      "text/plain": [
       "         date  ...                                             answer\n",
       "0  2021-12-05  ...  You will need to fill out a form in your onlin...\n",
       "1  2021-12-05  ...  Yes, you will. Each student signs a rental agr...\n",
       "2  2021-12-05  ...  Yes. If you have any questions about your acco...\n",
       "3  2021-12-05  ...  If the contract (rental or accommodation contr...\n",
       "4  2021-12-05  ...  All accommodation options require a security d...\n",
       "\n",
       "[5 rows x 3 columns]"
      ]
     },
     "execution_count": 137,
     "metadata": {},
     "output_type": "execute_result"
    }
   ],
   "source": [
    "hfaq = parse_housing_faq()\n",
    "\n",
    "hfaq['date'] = '2021-12-05'\n",
    "hfaq = hfaq[['date', 'question', 'answer']]\n",
    "for col in ['question', 'answer']:\n",
    "    hfaq[col] = hfaq[col].apply(lambda x: x.replace(\"'\",\"`\"))\n",
    "hfaq.head()"
   ]
  },
  {
   "cell_type": "code",
   "execution_count": 127,
   "id": "2351be7f",
   "metadata": {},
   "outputs": [],
   "source": [
    "def get_insert_hfaq_line_query(d, q, a, db='hse', table='housing_faq'):\n",
    "    query = f\"\"\"\n",
    "        INSERT INTO {db}.{table} ( event_date, question, answer )\n",
    "           VALUES\n",
    "           ( '{d}', '{q}', '{a}' );\n",
    "    \"\"\"\n",
    "    return query"
   ]
  },
  {
   "cell_type": "code",
   "execution_count": 128,
   "id": "3f4c8972",
   "metadata": {},
   "outputs": [],
   "source": [
    "sql = get_insert_hfaq_line_query(hfaq['date'][0], hfaq['question'][0], hfaq['answer'][0])\n",
    "cursor.execute(sql)\n",
    "db.commit()"
   ]
  },
  {
   "cell_type": "code",
   "execution_count": 141,
   "id": "9e0cc61f",
   "metadata": {},
   "outputs": [
    {
     "data": {
      "text/plain": [
       "((0,),)"
      ]
     },
     "execution_count": 141,
     "metadata": {},
     "output_type": "execute_result"
    }
   ],
   "source": [
    "sql = '''select count(*) from housing_faq'''\n",
    "cursor.execute(sql)\n",
    "cursor.fetchall()"
   ]
  },
  {
   "cell_type": "code",
   "execution_count": 142,
   "id": "47d51626",
   "metadata": {},
   "outputs": [
    {
     "name": "stderr",
     "output_type": "stream",
     "text": [
      "100%|██████████| 37/37 [00:11<00:00,  3.23it/s]\n"
     ]
    }
   ],
   "source": [
    "error_idx = []\n",
    "for i in tqdm(range(hfaq.shape[0])):\n",
    "    try:\n",
    "        sql = get_insert_hfaq_line_query(hfaq['date'][i], hfaq['question'][i], hfaq['answer'][i])\n",
    "        cursor.execute(sql)\n",
    "        db.commit()\n",
    "    except Exception as e:\n",
    "        print(i, e)\n",
    "        error_idx.append(i)\n",
    "        pass"
   ]
  },
  {
   "cell_type": "code",
   "execution_count": 145,
   "id": "8b229011",
   "metadata": {},
   "outputs": [
    {
     "data": {
      "text/plain": [
       "37"
      ]
     },
     "execution_count": 145,
     "metadata": {},
     "output_type": "execute_result"
    }
   ],
   "source": [
    "sql = '''select count(*) from housing_faq'''\n",
    "cursor.execute(sql)\n",
    "cursor.fetchall()[0][0]"
   ]
  },
  {
   "cell_type": "markdown",
   "id": "d6db1c07",
   "metadata": {},
   "source": [
    "### housing"
   ]
  },
  {
   "cell_type": "code",
   "execution_count": 147,
   "id": "ba8b07a5",
   "metadata": {},
   "outputs": [],
   "source": [
    "def insert_housing_faq(date, link='https://www.hse.ru/en/sho/', table='housing_faq'):\n",
    "    \n",
    "    # parsing\n",
    "    hfaq = parse_housing_faq(link=link)\n",
    "    hfaq['date'] = date\n",
    "    hfaq = hfaq[['date', 'question', 'answer']]\n",
    "    \n",
    "    # replacing single quotes\n",
    "    for col in ['question', 'answer']:\n",
    "        hfaq[col] = hfaq[col].apply(lambda x: x.replace(\"'\",\"`\"))\n",
    "    \n",
    "    # one line insert query \n",
    "    def get_insert_hfaq_line_query(d, q, a, db='hse', table='housing_faq'):\n",
    "        query = f\"\"\"\n",
    "            INSERT INTO {db}.{table} ( event_date, question, answer )\n",
    "               VALUES\n",
    "               ( '{d}', '{q}', '{a}' );\n",
    "        \"\"\"\n",
    "        return query\n",
    "    \n",
    "    # inserting\n",
    "    error_idx = []\n",
    "    for i in tqdm(range(hfaq.shape[0])):\n",
    "        try:\n",
    "            sql = get_insert_hfaq_line_query(\n",
    "                hfaq['date'][i], \n",
    "                hfaq['question'][i], \n",
    "                hfaq['answer'][i], \n",
    "                table=table\n",
    "            )\n",
    "            cursor.execute(sql)\n",
    "            db.commit()\n",
    "        except Exception as e:\n",
    "            print(i, e)\n",
    "            error_idx.append(i)\n",
    "            pass\n",
    "        \n",
    "    # checking how many rows are uploaded\n",
    "    sql = f\"\"\"select count(*) from {table} where event_date = '{date}'\"\"\"\n",
    "    cursor.execute(sql)\n",
    "    print(f\"Uploaded {cursor.fetchall()[0][0]} records out of {hfaq.shape[0]}\")\n",
    "        \n",
    "    return hfaq, error_idx"
   ]
  },
  {
   "cell_type": "code",
   "execution_count": 150,
   "id": "74191e0b",
   "metadata": {},
   "outputs": [
    {
     "data": {
      "text/plain": [
       "(('2021-12-05', '2021-12-05'),)"
      ]
     },
     "execution_count": 150,
     "metadata": {},
     "output_type": "execute_result"
    }
   ],
   "source": [
    "sql = '''select min(event_date), max(event_date) from housing_faq'''\n",
    "cursor.execute(sql)\n",
    "cursor.fetchall()"
   ]
  },
  {
   "cell_type": "code",
   "execution_count": 151,
   "id": "0670d845",
   "metadata": {
    "scrolled": true
   },
   "outputs": [
    {
     "name": "stderr",
     "output_type": "stream",
     "text": [
      "100%|██████████| 37/37 [00:12<00:00,  3.06it/s]"
     ]
    },
    {
     "name": "stdout",
     "output_type": "stream",
     "text": [
      "Uploaded 74 records out of 37\n"
     ]
    },
    {
     "name": "stderr",
     "output_type": "stream",
     "text": [
      "\n"
     ]
    }
   ],
   "source": [
    "tab, error_idx = insert_housing_faq(date='2021-12-04')"
   ]
  },
  {
   "cell_type": "code",
   "execution_count": 250,
   "id": "5cb0f115",
   "metadata": {},
   "outputs": [
    {
     "data": {
      "text/plain": [
       "(('2021-12-05', 37), ('2021-12-04', 37))"
      ]
     },
     "execution_count": 250,
     "metadata": {},
     "output_type": "execute_result"
    }
   ],
   "source": [
    "sql = '''select event_date, count(*) from housing_faq group by event_date'''\n",
    "cursor.execute(sql)\n",
    "cursor.fetchall()"
   ]
  },
  {
   "cell_type": "markdown",
   "id": "32b8a3e2",
   "metadata": {},
   "source": [
    "### costs"
   ]
  },
  {
   "cell_type": "code",
   "execution_count": 157,
   "id": "7b1bbb2a",
   "metadata": {},
   "outputs": [],
   "source": [
    "def insert_costs(date, link='https://admissions.hse.ru/en/graduate-apply/fees', table='costs'):\n",
    "    \n",
    "    stats = {}\n",
    "    # for each costs type\n",
    "    for which in ['fees', 'living']:\n",
    "        # parsing\n",
    "        costs = parse_costs(link=link, which=which)\n",
    "        costs.columns = ['programme', 'tuition']        \n",
    "        costs['date'] = date\n",
    "        costs = costs[['date', 'programme', 'tuition']]\n",
    "\n",
    "        # replacing single quotes\n",
    "        for col in ['programme', 'tuition']:\n",
    "            costs[col] = costs[col].apply(lambda x: x.replace(\"'\",\"`\"))\n",
    "\n",
    "        # one line insert query \n",
    "        def get_insert_costs_line_query(d, q, a, db='hse', table='costs'):\n",
    "            query = f\"\"\"\n",
    "                INSERT INTO {db}.{table} ( event_date, programme, tuition )\n",
    "                   VALUES\n",
    "                   ( '{d}', '{q}', '{a}' );\n",
    "            \"\"\"\n",
    "            return query\n",
    "\n",
    "        # inserting\n",
    "        error_idx = []\n",
    "        for i in tqdm(range(costs.shape[0])):\n",
    "            try:\n",
    "                sql = get_insert_costs_line_query(\n",
    "                    costs['date'][i], \n",
    "                    costs['programme'][i], \n",
    "                    costs['tuition'][i], \n",
    "                    table=table\n",
    "                )\n",
    "                cursor.execute(sql)\n",
    "                db.commit()\n",
    "            except Exception as e:\n",
    "                print(i, e)\n",
    "                error_idx.append(i)\n",
    "                pass\n",
    "\n",
    "        # checking how many rows are uploaded\n",
    "        sql = f\"\"\"select count(*) from {table} where event_date = '{date}'\"\"\"\n",
    "        cursor.execute(sql)\n",
    "        print(f\"Uploaded {cursor.fetchall()[0][0]} records out of {costs.shape[0]}\")\n",
    "        \n",
    "        stats[which] = [costs, error_idx]\n",
    "    \n",
    "    return stats"
   ]
  },
  {
   "cell_type": "code",
   "execution_count": 158,
   "id": "9c89331a",
   "metadata": {
    "scrolled": false
   },
   "outputs": [
    {
     "name": "stderr",
     "output_type": "stream",
     "text": [
      "100%|██████████| 39/39 [00:13<00:00,  2.80it/s]\n"
     ]
    },
    {
     "name": "stdout",
     "output_type": "stream",
     "text": [
      "Uploaded 0 records out of 39\n"
     ]
    },
    {
     "name": "stderr",
     "output_type": "stream",
     "text": [
      "100%|██████████| 39/39 [00:12<00:00,  3.15it/s]"
     ]
    },
    {
     "name": "stdout",
     "output_type": "stream",
     "text": [
      "Uploaded 0 records out of 39\n"
     ]
    },
    {
     "name": "stderr",
     "output_type": "stream",
     "text": [
      "\n"
     ]
    }
   ],
   "source": [
    "c = insert_costs('2021-12-05')"
   ]
  },
  {
   "cell_type": "code",
   "execution_count": 251,
   "id": "5e45e375",
   "metadata": {},
   "outputs": [
    {
     "data": {
      "text/plain": [
       "(('2021-12-05', 78),)"
      ]
     },
     "execution_count": 251,
     "metadata": {},
     "output_type": "execute_result"
    }
   ],
   "source": [
    "sql = '''select event_date, count(*) from costs group by event_date'''\n",
    "cursor.execute(sql)\n",
    "cursor.fetchall()"
   ]
  },
  {
   "cell_type": "markdown",
   "id": "d35dd2a0",
   "metadata": {},
   "source": [
    "### rankings"
   ]
  },
  {
   "cell_type": "code",
   "execution_count": 247,
   "id": "9740c6c3",
   "metadata": {},
   "outputs": [],
   "source": [
    "def insert_rankings(date, link='https://strategy.hse.ru/en/rating/', table='rankings'):\n",
    "    \n",
    "    # parsing\n",
    "    ranking = parse_rankings(link=link)\n",
    "    ranking.columns = ['ranking', 'subject', 'place_world', 'place_russia']\n",
    "    ranking['date'] = date\n",
    "    ranking = ranking[['date', 'ranking', 'subject', 'place_world', 'place_russia']]\n",
    "    \n",
    "    # replacing single quotes\n",
    "    def replace_single_quotes(x):\n",
    "        try:\n",
    "            return x.replace(\"'\",\"`\")\n",
    "        except AttributeError: # None\n",
    "            return ''\n",
    "    for col in ['ranking', 'subject', 'place_world', 'place_russia']:\n",
    "        ranking[col] = ranking[col].apply(replace_single_quotes)\n",
    "    \n",
    "    # one line insert query \n",
    "    def get_insert_rankings_query(d, r, s, pw, pr, db='hse', table='rankings'):\n",
    "        query = f\"\"\"\n",
    "            INSERT INTO {db}.{table} ( event_date, ranking, subject, place_world, place_russia )\n",
    "               VALUES\n",
    "               ( '{d}', '{r}', '{s}', '{pw}', '{pr}' );\n",
    "        \"\"\"\n",
    "        return query\n",
    "    \n",
    "    # inserting\n",
    "    error_idx = []\n",
    "    for i in tqdm(range(ranking.shape[0])):\n",
    "        try:\n",
    "            sql = get_insert_rankings_query(\n",
    "                ranking['date'][i], \n",
    "                ranking['ranking'][i], \n",
    "                ranking['subject'][i], \n",
    "                ranking['place_world'][i], \n",
    "                ranking['place_russia'][i],\n",
    "                table=table\n",
    "            )\n",
    "            cursor.execute(sql)\n",
    "            db.commit()\n",
    "        except Exception as e:\n",
    "            print(i, e)\n",
    "            error_idx.append(i)\n",
    "            pass\n",
    "        \n",
    "    # checking how many rows are uploaded\n",
    "    sql = f\"\"\"select count(*) from {table} where event_date = '{date}'\"\"\"\n",
    "    cursor.execute(sql)\n",
    "    print(f\"Uploaded {cursor.fetchall()[0][0]} records out of {ranking.shape[0]}\")\n",
    "        \n",
    "    return ranking, error_idx"
   ]
  },
  {
   "cell_type": "code",
   "execution_count": 248,
   "id": "a16434a0",
   "metadata": {
    "scrolled": false
   },
   "outputs": [
    {
     "name": "stderr",
     "output_type": "stream",
     "text": [
      " 69%|██████▉   | 38/55 [00:10<00:04,  3.57it/s]"
     ]
    },
    {
     "name": "stdout",
     "output_type": "stream",
     "text": [
      "38 38\n"
     ]
    },
    {
     "name": "stderr",
     "output_type": "stream",
     "text": [
      "100%|██████████| 55/55 [00:15<00:00,  3.64it/s]"
     ]
    },
    {
     "name": "stdout",
     "output_type": "stream",
     "text": [
      "Uploaded 54 records out of 55\n"
     ]
    },
    {
     "name": "stderr",
     "output_type": "stream",
     "text": [
      "\n"
     ]
    }
   ],
   "source": [
    "tab, error_idx = insert_rankings(date='2021-12-04')"
   ]
  },
  {
   "cell_type": "code",
   "execution_count": 252,
   "id": "08f531bf",
   "metadata": {},
   "outputs": [
    {
     "data": {
      "text/plain": [
       "(('2021-12-04', 54),)"
      ]
     },
     "execution_count": 252,
     "metadata": {},
     "output_type": "execute_result"
    }
   ],
   "source": [
    "sql = '''select event_date, count(*) from rankings group by event_date'''\n",
    "cursor.execute(sql)\n",
    "cursor.fetchall()"
   ]
  },
  {
   "cell_type": "markdown",
   "id": "e907ae88",
   "metadata": {},
   "source": [
    "### programmes"
   ]
  },
  {
   "cell_type": "code",
   "execution_count": null,
   "id": "b50d37da",
   "metadata": {},
   "outputs": [],
   "source": [
    "def insert_programmes(date, link='https://www.hse.ru/en/education/magister/', table='programmes'):\n",
    "    \n",
    "    # parsing\n",
    "    programmes = parse_programmes(link=link)\n",
    "    programmes.columns = ['programme', 'faculty', 'link', 'type', 'department', 'location', \n",
    "                       'duration', 'schedule', 'language']\n",
    "    programmes['date'] = date\n",
    "    programmes = programmes[['date', 'programme', 'faculty', 'link', 'type', 'department', 'location', \n",
    "                       'duration', 'schedule', 'language']]\n",
    "    \n",
    "    # replacing single quotes\n",
    "    def replace_single_quotes(x):\n",
    "        try:\n",
    "            return x.replace(\"'\",\"`\")\n",
    "        except AttributeError: # None\n",
    "            return ''\n",
    "    for col in ['programme', 'faculty', 'link', 'type', 'department', 'location', \n",
    "                       'duration', 'schedule', 'language']:\n",
    "        programmes[col] = programmes[col].apply(replace_single_quotes)\n",
    "    \n",
    "    # one line insert query \n",
    "    def get_insert_programmes_query(d, f, l, t, dep, loc, dur, sch, lan,  db='hse', table='programmess'):\n",
    "        query = f\"\"\"\n",
    "            INSERT INTO {db}.{table} ( event_date, faculty, link, type, department, location, duration, schedule, language )\n",
    "               VALUES\n",
    "               ( '{d}', '{f}', '{l}', '{t}', '{dep}', '{loc}', '{dur}', '{sch}', '{lan}' );\n",
    "        \"\"\"\n",
    "        return query\n",
    "    \n",
    "    # inserting\n",
    "    error_idx = []\n",
    "    for i in tqdm(range(programmes.shape[0])):\n",
    "        try:\n",
    "            sql = get_insert_programmes_query(\n",
    "                programmes['date'][i], \n",
    "                programmes['faculty'][i], \n",
    "                programmes['link'][i], \n",
    "                programmes['type'][i], \n",
    "                programmes['department'][i],\n",
    "                programmes['location'][i],\n",
    "                programmes['duration'][i],\n",
    "                programmes['schedule'][i],\n",
    "                programmes['language'][i],\n",
    "                table=table\n",
    "            )\n",
    "            cursor.execute(sql)\n",
    "            db.commit()\n",
    "        except Exception as e:\n",
    "            print(i, e)\n",
    "            error_idx.append(i)\n",
    "            pass\n",
    "        \n",
    "    # checking how many rows are uploaded\n",
    "    sql = f\"\"\"select count(*) from {table} where event_date = '{date}'\"\"\"\n",
    "    cursor.execute(sql)\n",
    "    print(f\"Uploaded {cursor.fetchall()[0][0]} records out of {programmes.shape[0]}\")\n",
    "        \n",
    "    return programmes, error_idx"
   ]
  },
  {
   "cell_type": "code",
   "execution_count": null,
   "id": "00a2d6fd",
   "metadata": {},
   "outputs": [],
   "source": [
    "tab, error_idx = insert_programmes(date='2021-12-04')"
   ]
  },
  {
   "cell_type": "code",
   "execution_count": 253,
   "id": "b84ebc58",
   "metadata": {},
   "outputs": [
    {
     "data": {
      "text/plain": [
       "(('2021-12-04', 283),)"
      ]
     },
     "execution_count": 253,
     "metadata": {},
     "output_type": "execute_result"
    }
   ],
   "source": [
    "sql = '''select event_date, count(*) from programmes group by event_date'''\n",
    "cursor.execute(sql)\n",
    "cursor.fetchall()"
   ]
  },
  {
   "cell_type": "code",
   "execution_count": null,
   "id": "c428e29c",
   "metadata": {},
   "outputs": [],
   "source": []
  }
 ],
 "metadata": {
  "kernelspec": {
   "display_name": "Python 3",
   "language": "python",
   "name": "python3"
  },
  "language_info": {
   "codemirror_mode": {
    "name": "ipython",
    "version": 3
   },
   "file_extension": ".py",
   "mimetype": "text/x-python",
   "name": "python",
   "nbconvert_exporter": "python",
   "pygments_lexer": "ipython3",
   "version": "3.8.8"
  }
 },
 "nbformat": 4,
 "nbformat_minor": 5
}
