{
  "cells": [
    {
      "cell_type": "code",
      "source": [
        "#!pip install pymysql"
      ],
      "metadata": {
        "id": "N0qEVk84oaag"
      },
      "id": "N0qEVk84oaag",
      "execution_count": 40,
      "outputs": []
    },
    {
      "cell_type": "code",
      "execution_count": 41,
      "id": "d7f8007d",
      "metadata": {
        "scrolled": false,
        "id": "d7f8007d"
      },
      "outputs": [],
      "source": [
        "import pymysql\n",
        "# from sshtunnel import SSHTunnelForwarder\n",
        "#import mysql.connector\n",
        "import pandas as pd\n",
        "from tqdm import tqdm"
      ]
    },
    {
      "cell_type": "markdown",
      "id": "6a8b205e",
      "metadata": {
        "id": "6a8b205e"
      },
      "source": [
        "## Connecting to the DB instance"
      ]
    },
    {
      "cell_type": "code",
      "execution_count": 42,
      "id": "bde336ce",
      "metadata": {
        "id": "bde336ce"
      },
      "outputs": [],
      "source": [
        "host = 'database.c5qerzx5gva8.us-east-2.rds.amazonaws.com'\n",
        "user = 'admin'\n",
        "password = 'Admin123!'\n",
        "database = 'database'\n",
        "port = 3306"
      ]
    },
    {
      "cell_type": "code",
      "execution_count": 43,
      "id": "66e4485a",
      "metadata": {
        "id": "66e4485a"
      },
      "outputs": [],
      "source": [
        "db = pymysql.connect(host=host, user=user, password=password)"
      ]
    },
    {
      "cell_type": "code",
      "execution_count": 44,
      "id": "579ebf00",
      "metadata": {
        "id": "579ebf00"
      },
      "outputs": [],
      "source": [
        "cursor = db.cursor()"
      ]
    },
    {
      "cell_type": "markdown",
      "id": "3a8a8f58",
      "metadata": {
        "id": "3a8a8f58"
      },
      "source": [
        "## Creating DB & tables"
      ]
    },
    {
      "cell_type": "code",
      "execution_count": 39,
      "id": "8feda24d",
      "metadata": {
        "id": "8feda24d"
      },
      "outputs": [],
      "source": [
        "sql = '''create database hse'''\n",
        "#cursor.execute(sql)"
      ]
    },
    {
      "cell_type": "code",
      "execution_count": null,
      "id": "9fe6ccbf",
      "metadata": {
        "id": "9fe6ccbf"
      },
      "outputs": [],
      "source": [
        "cursor.connection.commit()"
      ]
    },
    {
      "cell_type": "code",
      "execution_count": 16,
      "id": "dcf18246",
      "metadata": {
        "colab": {
          "base_uri": "https://localhost:8080/"
        },
        "id": "dcf18246",
        "outputId": "81b6a130-c4e7-43f6-a053-bca0b2b5b0e3"
      },
      "outputs": [
        {
          "output_type": "execute_result",
          "data": {
            "text/plain": [
              "0"
            ]
          },
          "metadata": {},
          "execution_count": 16
        }
      ],
      "source": [
        "sql = '''use hse'''\n",
        "cursor.execute(sql)"
      ]
    },
    {
      "cell_type": "code",
      "execution_count": 17,
      "id": "36583eed",
      "metadata": {
        "colab": {
          "base_uri": "https://localhost:8080/"
        },
        "id": "36583eed",
        "outputId": "af74a03e-eda8-4e5c-8497-2a4bad364edc"
      },
      "outputs": [
        {
          "output_type": "execute_result",
          "data": {
            "text/plain": [
              "10"
            ]
          },
          "metadata": {},
          "execution_count": 17
        }
      ],
      "source": [
        "len('2021-12-05')"
      ]
    },
    {
      "cell_type": "code",
      "execution_count": 23,
      "id": "f38eac7b",
      "metadata": {
        "colab": {
          "base_uri": "https://localhost:8080/"
        },
        "id": "f38eac7b",
        "outputId": "aa0645b8-dce2-4031-c192-a06f3f51bfb1"
      },
      "outputs": [
        {
          "output_type": "execute_result",
          "data": {
            "text/plain": [
              "0"
            ]
          },
          "metadata": {},
          "execution_count": 23
        }
      ],
      "source": [
        "sql = '''drop table housing_faq'''\n",
        "cursor.execute(sql)"
      ]
    },
    {
      "cell_type": "code",
      "execution_count": 24,
      "id": "10506595",
      "metadata": {
        "colab": {
          "base_uri": "https://localhost:8080/"
        },
        "id": "10506595",
        "outputId": "ba0fc170-6f1e-4c74-fbd4-a3df53c34efe"
      },
      "outputs": [
        {
          "output_type": "execute_result",
          "data": {
            "text/plain": [
              "0"
            ]
          },
          "metadata": {},
          "execution_count": 24
        }
      ],
      "source": [
        "sql = '''\n",
        "create table housing_faq (\n",
        "   event_date CHAR(10),\n",
        "   question VARCHAR(65534),\n",
        "   answer VARCHAR(65534)\n",
        ")\n",
        "'''\n",
        "cursor.execute(sql)"
      ]
    },
    {
      "cell_type": "code",
      "execution_count": 27,
      "id": "c7379777",
      "metadata": {
        "colab": {
          "base_uri": "https://localhost:8080/"
        },
        "id": "c7379777",
        "outputId": "79985ef6-8048-4154-b9d5-817970d77e47"
      },
      "outputs": [
        {
          "output_type": "execute_result",
          "data": {
            "text/plain": [
              "0"
            ]
          },
          "metadata": {},
          "execution_count": 27
        }
      ],
      "source": [
        "sql = '''drop table costs'''\n",
        "cursor.execute(sql)\n",
        "sql = '''\n",
        "create table costs (\n",
        "   event_date CHAR(10),\n",
        "   which VARCHAR(65534),\n",
        "   programme VARCHAR(65534),\n",
        "   tuition VARCHAR(65534)\n",
        ")\n",
        "'''\n",
        "cursor.execute(sql)"
      ]
    },
    {
      "cell_type": "code",
      "execution_count": 30,
      "id": "f0cd7565",
      "metadata": {
        "colab": {
          "base_uri": "https://localhost:8080/"
        },
        "id": "f0cd7565",
        "outputId": "c2ce1b2a-858b-4e8b-9d92-8b07fe795c15"
      },
      "outputs": [
        {
          "output_type": "execute_result",
          "data": {
            "text/plain": [
              "0"
            ]
          },
          "metadata": {},
          "execution_count": 30
        }
      ],
      "source": [
        "#sql = '''drop table rankings'''\n",
        "#cursor.execute(sql)\n",
        "sql = '''\n",
        "create table rankings (\n",
        "   event_date CHAR(10),\n",
        "   ranking VARCHAR(65534),\n",
        "   subject VARCHAR(65534),\n",
        "   place_world VARCHAR(65534),\n",
        "   place_russia VARCHAR(65534)\n",
        ")\n",
        "'''\n",
        "cursor.execute(sql)"
      ]
    },
    {
      "cell_type": "code",
      "execution_count": 32,
      "id": "0369f57c",
      "metadata": {
        "colab": {
          "base_uri": "https://localhost:8080/"
        },
        "id": "0369f57c",
        "outputId": "3e825aa4-3527-4543-904a-6a62eb508bff"
      },
      "outputs": [
        {
          "output_type": "execute_result",
          "data": {
            "text/plain": [
              "0"
            ]
          },
          "metadata": {},
          "execution_count": 32
        }
      ],
      "source": [
        "sql = '''drop table programmes'''\n",
        "cursor.execute(sql)\n",
        "\n",
        "sql = '''\n",
        "create table programmes (\n",
        "   event_date CHAR(10),\n",
        "   programme VARCHAR(65534),\n",
        "   faculty VARCHAR(65534),\n",
        "   link VARCHAR(65534),\n",
        "   type VARCHAR(65534),\n",
        "   department VARCHAR(65534),\n",
        "   location VARCHAR(65534),\n",
        "   duration VARCHAR(65534),\n",
        "   schedule VARCHAR(65534),\n",
        "   language VARCHAR(65534)\n",
        ")\n",
        "'''\n",
        "cursor.execute(sql)"
      ]
    },
    {
      "cell_type": "code",
      "execution_count": 35,
      "id": "2b985978",
      "metadata": {
        "scrolled": true,
        "colab": {
          "base_uri": "https://localhost:8080/"
        },
        "id": "2b985978",
        "outputId": "23be3ebd-0b14-4f01-8e54-cb79e904da6c"
      },
      "outputs": [
        {
          "output_type": "execute_result",
          "data": {
            "text/plain": [
              "(('costs',), ('housing_faq',), ('programmes',), ('rankings',))"
            ]
          },
          "metadata": {},
          "execution_count": 35
        }
      ],
      "source": [
        "sql = '''show tables'''\n",
        "cursor.execute(sql)\n",
        "cursor.fetchall()"
      ]
    }
  ],
  "metadata": {
    "kernelspec": {
      "display_name": "Python 3",
      "language": "python",
      "name": "python3"
    },
    "language_info": {
      "codemirror_mode": {
        "name": "ipython",
        "version": 3
      },
      "file_extension": ".py",
      "mimetype": "text/x-python",
      "name": "python",
      "nbconvert_exporter": "python",
      "pygments_lexer": "ipython3",
      "version": "3.8.8"
    },
    "colab": {
      "name": "db_connection.ipynb",
      "provenance": []
    }
  },
  "nbformat": 4,
  "nbformat_minor": 5
}